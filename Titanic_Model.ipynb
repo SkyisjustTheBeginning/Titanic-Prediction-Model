{
  "nbformat": 4,
  "nbformat_minor": 0,
  "metadata": {
    "colab": {
      "provenance": []
    },
    "kernelspec": {
      "name": "python3",
      "display_name": "Python 3"
    },
    "language_info": {
      "name": "python"
    }
  },
  "cells": [
    {
      "cell_type": "code",
      "execution_count": 14,
      "metadata": {
        "id": "kYFC772r39Kj"
      },
      "outputs": [],
      "source": [
        "#Importing all modules.\n",
        "import xgboost as xgb\n",
        "import numpy as np\n",
        "import pandas as pd\n",
        "from sklearn.model_selection import train_test_split"
      ]
    },
    {
      "cell_type": "code",
      "source": [
        "#Reading the Titanic Dataset\n",
        "df = pd.read_csv('/content/drive/MyDrive/Titanic-Model/dataset.csv')"
      ],
      "metadata": {
        "id": "nkJBnuGI4XRn"
      },
      "execution_count": 15,
      "outputs": []
    },
    {
      "cell_type": "code",
      "source": [
        "#Creating the Classifier\n",
        "model = xgb.XGBClassifier()"
      ],
      "metadata": {
        "id": "abuJIl6m5GbN"
      },
      "execution_count": 16,
      "outputs": []
    },
    {
      "cell_type": "code",
      "source": [
        "#Defining the training set\n",
        "black_list = ['PassengerId','Pclass','Age','SibSp','Parch','Fare']\n",
        "X = np.array(np.float32(df[black_list]))\n",
        "y = np.array(np.float32(df['Survived']))\n",
        "X_train,X_test,y_train,y_test = train_test_split(X,y,test_size=0.02)"
      ],
      "metadata": {
        "colab": {
          "base_uri": "https://localhost:8080/"
        },
        "id": "3BeC-V6W5eYr",
        "outputId": "7e10e96c-9516-4c5b-d443-dda331b0ef57"
      },
      "execution_count": 21,
      "outputs": [
        {
          "output_type": "stream",
          "name": "stdout",
          "text": [
            "[[  1.       3.      22.       1.       0.       7.25  ]\n",
            " [  2.       1.      38.       1.       0.      71.2833]\n",
            " [  3.       3.      26.       0.       0.       7.925 ]\n",
            " ...\n",
            " [889.       3.          nan   1.       2.      23.45  ]\n",
            " [890.       1.      26.       0.       0.      30.    ]\n",
            " [891.       3.      32.       0.       0.       7.75  ]]\n"
          ]
        }
      ]
    },
    {
      "cell_type": "code",
      "source": [
        "#Training the model\n",
        "model.fit(X,y)"
      ],
      "metadata": {
        "colab": {
          "base_uri": "https://localhost:8080/"
        },
        "id": "-Gx1lJK86Y8T",
        "outputId": "c03de5e0-1e5e-48f4-802b-55d134fcd799"
      },
      "execution_count": 22,
      "outputs": [
        {
          "output_type": "execute_result",
          "data": {
            "text/plain": [
              "XGBClassifier()"
            ]
          },
          "metadata": {},
          "execution_count": 22
        }
      ]
    },
    {
      "cell_type": "code",
      "source": [
        "#Testing the model\n",
        "print(str(model.score(X_test,y_test)))"
      ],
      "metadata": {
        "colab": {
          "base_uri": "https://localhost:8080/"
        },
        "id": "DYUArA3l7JiK",
        "outputId": "78861c89-7dee-401d-8cfa-d60fe92c8718"
      },
      "execution_count": 23,
      "outputs": [
        {
          "output_type": "stream",
          "name": "stdout",
          "text": [
            "0.8888888888888888\n"
          ]
        }
      ]
    }
  ]
}